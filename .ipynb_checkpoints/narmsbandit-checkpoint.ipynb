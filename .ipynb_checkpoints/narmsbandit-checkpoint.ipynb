{
 "cells": [
  {
   "cell_type": "code",
   "execution_count": 15,
   "metadata": {
    "collapsed": true,
    "deletable": true,
    "editable": true
   },
   "outputs": [],
   "source": [
    "import numpy as np\n",
    "import matplotlib.pyplot as plt\n",
    "%matplotlib inline"
   ]
  },
  {
   "cell_type": "code",
   "execution_count": 33,
   "metadata": {
    "collapsed": false,
    "deletable": true,
    "editable": true
   },
   "outputs": [],
   "source": [
    "class Arms:\n",
    "    def __init__(self, arms):\n",
    "        self.arms = arms\n",
    "    \n",
    "    def get_value(self, index):\n",
    "        value = self.arms[index]\n",
    "        random = np.random.random_sample() * 4 - 2\n",
    "        return value + random"
   ]
  },
  {
   "cell_type": "code",
   "execution_count": 44,
   "metadata": {
    "collapsed": false,
    "deletable": true,
    "editable": true
   },
   "outputs": [
    {
     "data": {
      "image/png": "[encoded data removed]",
      "text/plain": [
       "<matplotlib.figure.Figure at 0x7fbe80e5e320>"
      ]
     },
     "metadata": {},
     "output_type": "display_data"
    }
   ],
   "source": [
    "values = range(10)\n",
    "length = len(values)\n",
    "arms = Arms(values)\n",
    "\n",
    "q_i_cnt = [0] * length\n",
    "q_k_i = [0] * length\n",
    "q_k = 0\n",
    "q_k_list = []\n",
    "choice_idx_list = []\n",
    "r_k_list = []\n",
    "for k in range(2000):\n",
    "    if np.random.random_sample() < 0.1:\n",
    "        i = np.random.randint(0, length)\n",
    "    else:\n",
    "        i = np.argmax(q_k_i)\n",
    "        \n",
    "    r_k = arms.get_value(i)\n",
    "    q_k += (r_k - q_k) / (k + 1)\n",
    "    q_k_i[i] += (r_k - q_k_i[i]) / (q_i_cnt[i] + 1)\n",
    "    \n",
    "    q_k_list.append(q_k)\n",
    "    choice_idx_list.append(i)\n",
    "    r_k_list.append(r_k)\n",
    "\n",
    "# plt.plot(r_k_list)\n",
    "plt.plot(q_k_list)\n",
    "plt.show()"
   ]
  }
 ],
 "metadata": {
  "kernelspec": {
   "display_name": "Python 3",
   "language": "python",
   "name": "python3"
  },
  "language_info": {
   "codemirror_mode": {
    "name": "ipython",
    "version": 3
   },
   "file_extension": ".py",
   "mimetype": "text/x-python",
   "name": "python",
   "nbconvert_exporter": "python",
   "pygments_lexer": "ipython3",
   "version": "3.5.2"
  }
 },
 "nbformat": 4,
 "nbformat_minor": 2
}
